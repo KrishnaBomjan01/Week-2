{
  "nbformat": 4,
  "nbformat_minor": 0,
  "metadata": {
    "colab": {
      "provenance": []
    },
    "kernelspec": {
      "name": "python3",
      "display_name": "Python 3"
    },
    "language_info": {
      "name": "python"
    }
  },
  "cells": [
    {
      "cell_type": "markdown",
      "source": [
        "**Task 3.1 Problem 1 - Data Read, Write and Inspect:**\n",
        "Complete all following Task:\n",
        "• Dataset for the Task: \"bank.csv\"\n",
        "1. Load the provided dataset and import in pandas DataFrame.\n",
        "2. Check info of the DataFrame and identify following:\n",
        "(a) columns with dtypes=object\n",
        "(b) unique values of those columns.\n",
        "(c) check for the total number of null values in each column.\n",
        "3. Drop all the columns with dtypes object and store in new DataFrame, also write the DataFrame in\n",
        "”.csv” with name ”banknumericdata.csv”\n",
        "4. Read ”banknumericdata.csv” and Find the summary statistics."
      ],
      "metadata": {
        "id": "1pMUlERmSFlJ"
      }
    },
    {
      "cell_type": "code",
      "execution_count": 15,
      "metadata": {
        "colab": {
          "base_uri": "https://localhost:8080/"
        },
        "id": "OG44QasXQsBN",
        "outputId": "1582f2fe-9c7d-42df-aa71-3b17ad9006a1"
      },
      "outputs": [
        {
          "output_type": "stream",
          "name": "stdout",
          "text": [
            "Object Columns: ['job', 'marital', 'education', 'default', 'housing', 'loan', 'contact', 'month', 'poutcome', 'y']\n",
            "Unique Values: {'job': array(['management', 'technician', 'entrepreneur', 'blue-collar',\n",
            "       'unknown', 'retired', 'admin.', 'services', 'self-employed',\n",
            "       'unemployed', 'housemaid', 'student'], dtype=object), 'marital': array(['married', 'single', 'divorced'], dtype=object), 'education': array(['tertiary', 'secondary', 'unknown', 'primary'], dtype=object), 'default': array(['no', 'yes'], dtype=object), 'housing': array(['yes', 'no'], dtype=object), 'loan': array(['no', 'yes'], dtype=object), 'contact': array(['unknown', 'cellular', 'telephone'], dtype=object), 'month': array(['may', 'jun', 'jul', 'aug', 'oct', 'nov', 'dec', 'jan', 'feb',\n",
            "       'mar', 'apr', 'sep'], dtype=object), 'poutcome': array(['unknown', 'failure', 'other', 'success'], dtype=object), 'y': array(['no', 'yes'], dtype=object)}\n",
            "Null Values:\n",
            " age          0\n",
            "job          0\n",
            "marital      0\n",
            "education    0\n",
            "default      0\n",
            "balance      0\n",
            "housing      0\n",
            "loan         0\n",
            "contact      0\n",
            "day          0\n",
            "month        0\n",
            "duration     0\n",
            "campaign     0\n",
            "pdays        0\n",
            "previous     0\n",
            "poutcome     0\n",
            "y            0\n",
            "dtype: int64\n",
            "Summary Statistics:\n",
            "                 age        balance           day      duration      campaign  \\\n",
            "count  45211.000000   45211.000000  45211.000000  45211.000000  45211.000000   \n",
            "mean      40.936210    1362.272058     15.806419    258.163080      2.763841   \n",
            "std       10.618762    3044.765829      8.322476    257.527812      3.098021   \n",
            "min       18.000000   -8019.000000      1.000000      0.000000      1.000000   \n",
            "25%       33.000000      72.000000      8.000000    103.000000      1.000000   \n",
            "50%       39.000000     448.000000     16.000000    180.000000      2.000000   \n",
            "75%       48.000000    1428.000000     21.000000    319.000000      3.000000   \n",
            "max       95.000000  102127.000000     31.000000   4918.000000     63.000000   \n",
            "\n",
            "              pdays      previous  \n",
            "count  45211.000000  45211.000000  \n",
            "mean      40.197828      0.580323  \n",
            "std      100.128746      2.303441  \n",
            "min       -1.000000      0.000000  \n",
            "25%       -1.000000      0.000000  \n",
            "50%       -1.000000      0.000000  \n",
            "75%       -1.000000      0.000000  \n",
            "max      871.000000    275.000000  \n"
          ]
        }
      ],
      "source": [
        "import pandas as pd\n",
        "\n",
        "#loading csv file from dataset\n",
        "file_path = '/content/drive/MyDrive/Data Set/Copy of bank .csv'\n",
        "df = pd.read_csv(file_path)\n",
        "\n",
        "object_columns = df.select_dtypes(include='object').columns.tolist()\n",
        "unique_values = {col: df[col].unique() for col in object_columns}\n",
        "\n",
        "null_values = df.isnull().sum()\n",
        "\n",
        "#dropping  object columns and save numeric DataFrame\n",
        "numeric_df = df.select_dtypes(exclude='object')\n",
        "numeric_file_path = 'banknumericdata.csv'\n",
        "numeric_df.to_csv(numeric_file_path, index=False)\n",
        "\n",
        "#loading and summarize numeric DataFrame\n",
        "numeric_df = pd.read_csv(numeric_file_path)\n",
        "summary_statistics = numeric_df.describe()\n",
        "\n",
        "print(\"Object Columns:\", object_columns)\n",
        "print(\"Unique Values:\", unique_values)\n",
        "print(\"Null Values:\\n\", null_values)\n",
        "print(\"Summary Statistics:\\n\", summary_statistics)\n"
      ]
    },
    {
      "cell_type": "markdown",
      "source": [
        "**Problem 2 - Data Imputations:**\n",
        "Complete all the following Task:\n",
        "• Dataset for the Task: \"medical_student.csv\"\n",
        "1. Load the provided dataset and import in pandas DataFrame.\n",
        "2. Check info of the DataFrame and identify column with missing (null) values.\n",
        "3. For the column with missing values fill the values using various techniques we discussed above. Try\n",
        "to explain why did you select the particular methods for particular column.\n",
        "4. Check for any duplicate values present in Dataset and do necessary to manage the duplicate items.\n",
        "{Hint: dataset.duplicated.sum()}"
      ],
      "metadata": {
        "id": "MTH8QpQgTAQp"
      }
    },
    {
      "cell_type": "code",
      "source": [
        "import pandas as pd\n",
        "\n",
        "#loading csv file from dataset\n",
        "file_path = '/content/drive/MyDrive/Data Set/Copy of medical_students_dataset.csv'\n",
        "df = pd.read_csv(file_path)\n",
        "\n",
        "df_info = df.info()\n",
        "missing_values = df.isnull().sum()\n",
        "\n",
        "num_columns = df.select_dtypes(include=['float64', 'int64']).columns\n",
        "cat_columns = df.select_dtypes(include='object').columns\n",
        "\n",
        "for col in num_columns:\n",
        "    if df[col].isnull().sum() > 0:\n",
        "        df[col].fillna(df[col].mean(), inplace=True)\n",
        "\n",
        "for col in cat_columns:\n",
        "    if df[col].isnull().sum() > 0:\n",
        "        df[col].fillna(df[col].mode()[0], inplace=True)\n",
        "\n",
        "#checking for duplicates\n",
        "duplicates_count = df.duplicated().sum()\n",
        "\n",
        "if duplicates_count > 0:\n",
        "    df = df.drop_duplicates()\n",
        "\n",
        "print(\"Info of Dataset After Handling Missing Values and Duplicates:\")\n",
        "print(df.info())\n",
        "print(f\"Total Duplicates Removed: {duplicates_count}\")\n",
        "print(\"Final Missing Values Check:\\n\", df.isnull().sum())\n"
      ],
      "metadata": {
        "colab": {
          "base_uri": "https://localhost:8080/"
        },
        "id": "IDp3SSfDSszK",
        "outputId": "ce70c63a-6b9a-4933-ec11-27fdc87c1968"
      },
      "execution_count": 16,
      "outputs": [
        {
          "output_type": "stream",
          "name": "stdout",
          "text": [
            "<class 'pandas.core.frame.DataFrame'>\n",
            "RangeIndex: 200000 entries, 0 to 199999\n",
            "Data columns (total 13 columns):\n",
            " #   Column          Non-Null Count   Dtype  \n",
            "---  ------          --------------   -----  \n",
            " 0   Student ID      180000 non-null  float64\n",
            " 1   Age             180000 non-null  float64\n",
            " 2   Gender          180000 non-null  object \n",
            " 3   Height          180000 non-null  float64\n",
            " 4   Weight          180000 non-null  float64\n",
            " 5   Blood Type      180000 non-null  object \n",
            " 6   BMI             180000 non-null  float64\n",
            " 7   Temperature     180000 non-null  float64\n",
            " 8   Heart Rate      180000 non-null  float64\n",
            " 9   Blood Pressure  180000 non-null  float64\n",
            " 10  Cholesterol     180000 non-null  float64\n",
            " 11  Diabetes        180000 non-null  object \n",
            " 12  Smoking         180000 non-null  object \n",
            "dtypes: float64(9), object(4)\n",
            "memory usage: 19.8+ MB\n"
          ]
        },
        {
          "output_type": "stream",
          "name": "stderr",
          "text": [
            "<ipython-input-16-df501cdac358>:15: FutureWarning: A value is trying to be set on a copy of a DataFrame or Series through chained assignment using an inplace method.\n",
            "The behavior will change in pandas 3.0. This inplace method will never work because the intermediate object on which we are setting values always behaves as a copy.\n",
            "\n",
            "For example, when doing 'df[col].method(value, inplace=True)', try using 'df.method({col: value}, inplace=True)' or df[col] = df[col].method(value) instead, to perform the operation inplace on the original object.\n",
            "\n",
            "\n",
            "  df[col].fillna(df[col].mean(), inplace=True)\n",
            "<ipython-input-16-df501cdac358>:19: FutureWarning: A value is trying to be set on a copy of a DataFrame or Series through chained assignment using an inplace method.\n",
            "The behavior will change in pandas 3.0. This inplace method will never work because the intermediate object on which we are setting values always behaves as a copy.\n",
            "\n",
            "For example, when doing 'df[col].method(value, inplace=True)', try using 'df.method({col: value}, inplace=True)' or df[col] = df[col].method(value) instead, to perform the operation inplace on the original object.\n",
            "\n",
            "\n",
            "  df[col].fillna(df[col].mode()[0], inplace=True)\n"
          ]
        },
        {
          "output_type": "stream",
          "name": "stdout",
          "text": [
            "Info of Dataset After Handling Missing Values and Duplicates:\n",
            "<class 'pandas.core.frame.DataFrame'>\n",
            "Index: 187428 entries, 0 to 199999\n",
            "Data columns (total 13 columns):\n",
            " #   Column          Non-Null Count   Dtype  \n",
            "---  ------          --------------   -----  \n",
            " 0   Student ID      187428 non-null  float64\n",
            " 1   Age             187428 non-null  float64\n",
            " 2   Gender          187428 non-null  object \n",
            " 3   Height          187428 non-null  float64\n",
            " 4   Weight          187428 non-null  float64\n",
            " 5   Blood Type      187428 non-null  object \n",
            " 6   BMI             187428 non-null  float64\n",
            " 7   Temperature     187428 non-null  float64\n",
            " 8   Heart Rate      187428 non-null  float64\n",
            " 9   Blood Pressure  187428 non-null  float64\n",
            " 10  Cholesterol     187428 non-null  float64\n",
            " 11  Diabetes        187428 non-null  object \n",
            " 12  Smoking         187428 non-null  object \n",
            "dtypes: float64(9), object(4)\n",
            "memory usage: 20.0+ MB\n",
            "None\n",
            "Total Duplicates Removed: 12572\n",
            "Final Missing Values Check:\n",
            " Student ID        0\n",
            "Age               0\n",
            "Gender            0\n",
            "Height            0\n",
            "Weight            0\n",
            "Blood Type        0\n",
            "BMI               0\n",
            "Temperature       0\n",
            "Heart Rate        0\n",
            "Blood Pressure    0\n",
            "Cholesterol       0\n",
            "Diabetes          0\n",
            "Smoking           0\n",
            "dtype: int64\n"
          ]
        }
      ]
    },
    {
      "cell_type": "markdown",
      "source": [
        "**Task 3.2 Exercises - Data Cleaning and Transformations with ”Titanic Dataset”:\n",
        "Dataset Used: \"titanic.csv\"\n",
        "Problem - 1:**\n",
        "Create a DataFrame that is subsetted for the columns ’Name’, ’Pclass’, ’Sex’, ’Age’, ’Fare’, and ’Survived’.\n",
        "Retain only those rows where ’Pclass’ is equal to 1, representing first-class passengers. What is the mean,\n",
        "median, maximum value, and minimum value of the ’Fare’ column?"
      ],
      "metadata": {
        "id": "2JHJqmh0TY2y"
      }
    },
    {
      "cell_type": "code",
      "source": [
        "import pandas as pd\n",
        "\n",
        "#loading csv file from dataset\n",
        "file_path = '/content/drive/MyDrive/Data Set/Copy of Titanic-Dataset.csv'\n",
        "df = pd.read_csv(file_path)\n",
        "\n",
        "columns_to_keep = ['Name', 'Pclass', 'Sex', 'Age', 'Fare', 'Survived']\n",
        "df_subset = df[columns_to_keep]\n",
        "\n",
        "first_class_passengers = df_subset[df_subset['Pclass'] == 1]\n",
        "\n",
        "#calculateing statistics for the 'Fare' column\n",
        "fare_mean = first_class_passengers['Fare'].mean()\n",
        "fare_median = first_class_passengers['Fare'].median()\n",
        "fare_max = first_class_passengers['Fare'].max()\n",
        "fare_min = first_class_passengers['Fare'].min()\n",
        "\n",
        "print(\"Mean Fare:\", fare_mean)\n",
        "print(\"Median Fare:\", fare_median)\n",
        "print(\"Maximum Fare:\", fare_max)\n",
        "print(\"Minimum Fare:\", fare_min)"
      ],
      "metadata": {
        "colab": {
          "base_uri": "https://localhost:8080/"
        },
        "id": "1CQdaMeUS5ra",
        "outputId": "4584b497-7e6c-4dfb-daa1-2587dd51d2af"
      },
      "execution_count": 47,
      "outputs": [
        {
          "output_type": "stream",
          "name": "stdout",
          "text": [
            "Mean Fare: 84.1546875\n",
            "Median Fare: 60.287499999999994\n",
            "Maximum Fare: 512.3292\n",
            "Minimum Fare: 0.0\n"
          ]
        }
      ]
    },
    {
      "cell_type": "markdown",
      "source": [
        "**Problem - 2:**\n",
        "How many null values are contained in the ’Age’ column in your subsetted DataFrame? Once you’ve found\n",
        "this out, drop them from your DataFrame."
      ],
      "metadata": {
        "id": "xSZuO7CjT7qV"
      }
    },
    {
      "cell_type": "code",
      "source": [
        "import pandas as pd\n",
        "\n",
        "#loading csv file from dataset\n",
        "file_path = '/content/drive/MyDrive/Data Set/Copy of Titanic-Dataset.csv'\n",
        "df = pd.read_csv(file_path)\n",
        "\n",
        "null_count = df['Age'].isnull().sum()\n",
        "print(f\"Number of null values in the 'Age' column: {null_count}\")\n",
        "\n",
        "df_cleaned = df.dropna(subset=['Age'])\n",
        "\n",
        "print(f\"Shape of the cleaned DataFrame (after dropping null values): {df_cleaned.shape}\")\n",
        "print(df_cleaned.head())\n"
      ],
      "metadata": {
        "colab": {
          "base_uri": "https://localhost:8080/"
        },
        "id": "nCe1s1lQVThz",
        "outputId": "f2e40915-7b10-4e4d-c640-376f470782ee"
      },
      "execution_count": 46,
      "outputs": [
        {
          "output_type": "stream",
          "name": "stdout",
          "text": [
            "Number of null values in the 'Age' column: 177\n",
            "Shape of the cleaned DataFrame (after dropping null values): (714, 12)\n",
            "   PassengerId  Survived  Pclass  \\\n",
            "0            1         0       3   \n",
            "1            2         1       1   \n",
            "2            3         1       3   \n",
            "3            4         1       1   \n",
            "4            5         0       3   \n",
            "\n",
            "                                                Name     Sex   Age  SibSp  \\\n",
            "0                            Braund, Mr. Owen Harris    male  22.0      1   \n",
            "1  Cumings, Mrs. John Bradley (Florence Briggs Th...  female  38.0      1   \n",
            "2                             Heikkinen, Miss. Laina  female  26.0      0   \n",
            "3       Futrelle, Mrs. Jacques Heath (Lily May Peel)  female  35.0      1   \n",
            "4                           Allen, Mr. William Henry    male  35.0      0   \n",
            "\n",
            "   Parch            Ticket     Fare Cabin Embarked  \n",
            "0      0         A/5 21171   7.2500   NaN        S  \n",
            "1      0          PC 17599  71.2833   C85        C  \n",
            "2      0  STON/O2. 3101282   7.9250   NaN        S  \n",
            "3      0            113803  53.1000  C123        S  \n",
            "4      0            373450   8.0500   NaN        S  \n"
          ]
        }
      ]
    },
    {
      "cell_type": "markdown",
      "source": [
        "**Problem - 3:**\n",
        "\n",
        "The ’Embarked’ column in the Titanic dataset contains categorical data representing the ports of embarka-\n",
        "tion:\n",
        "\n",
        "• ’C’ for Cherbourg\n",
        "• ’Q’ for Queenstown\n",
        "• ’S’ for Southampton\n",
        "Task:\n",
        "1. Use one-hot encoding to convert the ’Embarked’ column into separate binary columns (’Embarked C’,\n",
        "’Embarked Q’, ’Embarked S’).\n",
        "2. Add these new columns to the original DataFrame.\n",
        "3. Drop the original ’Embarked’ column.\n",
        "4. Print the first few rows of the modified DataFrame to verify the changes."
      ],
      "metadata": {
        "id": "OMM9PoilUE94"
      }
    },
    {
      "cell_type": "code",
      "source": [
        "import pandas as pd\n",
        "\n",
        "#loading csv file from dataset\n",
        "file_path = '/content/drive/MyDrive/Data Set/Copy of Titanic-Dataset.csv'\n",
        "df = pd.read_csv(file_path)\n",
        "\n",
        "# One-hot encoding of the 'Embarked' column\n",
        "df_encoded = pd.get_dummies(df, columns=['Embarked'], prefix='Embarked')\n",
        "\n",
        "# Print the modified DataFrame\n",
        "print(df_encoded.head())  # Display the first few rows to check the changes\n"
      ],
      "metadata": {
        "colab": {
          "base_uri": "https://localhost:8080/"
        },
        "id": "9jDbdRc9ZOFv",
        "outputId": "8f5fd868-770a-4682-c13a-eeed46ffd4fa"
      },
      "execution_count": 26,
      "outputs": [
        {
          "output_type": "stream",
          "name": "stdout",
          "text": [
            "   PassengerId  Survived  Pclass  \\\n",
            "0            1         0       3   \n",
            "1            2         1       1   \n",
            "2            3         1       3   \n",
            "3            4         1       1   \n",
            "4            5         0       3   \n",
            "\n",
            "                                                Name     Sex   Age  SibSp  \\\n",
            "0                            Braund, Mr. Owen Harris    male  22.0      1   \n",
            "1  Cumings, Mrs. John Bradley (Florence Briggs Th...  female  38.0      1   \n",
            "2                             Heikkinen, Miss. Laina  female  26.0      0   \n",
            "3       Futrelle, Mrs. Jacques Heath (Lily May Peel)  female  35.0      1   \n",
            "4                           Allen, Mr. William Henry    male  35.0      0   \n",
            "\n",
            "   Parch            Ticket     Fare Cabin  Embarked_C  Embarked_Q  Embarked_S  \n",
            "0      0         A/5 21171   7.2500   NaN       False       False        True  \n",
            "1      0          PC 17599  71.2833   C85        True       False       False  \n",
            "2      0  STON/O2. 3101282   7.9250   NaN       False       False        True  \n",
            "3      0            113803  53.1000  C123       False       False        True  \n",
            "4      0            373450   8.0500   NaN       False       False        True  \n"
          ]
        }
      ]
    },
    {
      "cell_type": "markdown",
      "source": [
        "**Problem - 4:**\n",
        "\n",
        "Compare the mean survival rates (’Survived’) for the different groups in the ’Sex’ column. Draw a visual-\n",
        "ization to show how the survival distributions vary by gender."
      ],
      "metadata": {
        "id": "w3l2ZMLBULq7"
      }
    },
    {
      "cell_type": "code",
      "source": [
        "import pandas as pd\n",
        "import seaborn as sns\n",
        "import matplotlib.pyplot as plt\n",
        "\n",
        "#loading csv file from dataset\n",
        "file_path = '/content/drive/MyDrive/Data Set/Copy of Titanic-Dataset.csv'\n",
        "df = pd.read_csv(file_path)\n",
        "\n",
        "# Calculate the mean survival rate for each gender\n",
        "mean_survival_by_gender = df.groupby('Sex')['Survived'].mean()\n",
        "print(mean_survival_by_gender)\n",
        "\n",
        "plt.figure(figsize=(8, 6))\n",
        "sns.boxplot(x='Sex', y='Survived', data=df)\n",
        "plt.title('Survival Distributions by Gender')\n",
        "plt.xlabel('Gender')\n",
        "plt.ylabel('Survived (0 = No, 1 = Yes)')\n",
        "plt.show()\n"
      ],
      "metadata": {
        "colab": {
          "base_uri": "https://localhost:8080/",
          "height": 633
        },
        "id": "dBQERDEpZj-k",
        "outputId": "341f3f52-8b31-476b-cc50-7767b78dbc19"
      },
      "execution_count": 40,
      "outputs": [
        {
          "output_type": "stream",
          "name": "stdout",
          "text": [
            "Sex\n",
            "female    0.742038\n",
            "male      0.188908\n",
            "Name: Survived, dtype: float64\n"
          ]
        },
        {
          "output_type": "display_data",
          "data": {
            "text/plain": [
              "<Figure size 800x600 with 1 Axes>"
            ],
            "image/png": "[encoded data removed]"
          },
          "metadata": {}
        }
      ]
    },
    {
      "cell_type": "markdown",
      "source": [
        "**Problem - 5:**\n",
        "\n",
        "Draw a visualization that breaks your visualization from Exercise 3 down by the port of embarkation (’Em-\n",
        "barked’). In this instance, compare the ports ’C’ (Cherbourg), ’Q’ (Queenstown), and ’S’ (Southampton)."
      ],
      "metadata": {
        "id": "eHRzN3OAUSke"
      }
    },
    {
      "cell_type": "code",
      "source": [
        "import pandas as pd\n",
        "import seaborn as sns\n",
        "import matplotlib.pyplot as plt\n",
        "\n",
        "#loading csv file from dataset\n",
        "file_path = '/content/drive/MyDrive/Data Set/Copy of Titanic-Dataset.csv'\n",
        "df = pd.read_csv(file_path)\n",
        "\n",
        "\n",
        "# Create a visualization that breaks down survival by gender and port of embarkation\n",
        "plt.figure(figsize=(10, 6))\n",
        "sns.boxplot(x='Sex', y='Survived', hue='Embarked', data=df)\n",
        "plt.title('Survival Rates by Gender and Port of Embarkation')\n",
        "plt.xlabel('Gender')\n",
        "plt.ylabel('Survived (0 = No, 1 = Yes)')\n",
        "plt.legend(title='Embarked', loc='upper right')\n",
        "plt.show()"
      ],
      "metadata": {
        "colab": {
          "base_uri": "https://localhost:8080/",
          "height": 564
        },
        "id": "L2imCNM8Z5OT",
        "outputId": "72b40f75-1a53-4b6d-9f40-100d4cbc474a"
      },
      "execution_count": 41,
      "outputs": [
        {
          "output_type": "display_data",
          "data": {
            "text/plain": [
              "<Figure size 1000x600 with 1 Axes>"
            ],
            "image/png": "[encoded data removed]"
          },
          "metadata": {}
        }
      ]
    },
    {
      "cell_type": "markdown",
      "source": [
        "**Problem - 6{Optional}:**\n",
        "Show how the survival rates (’Survived’) vary by age group and passenger class (’Pclass’). Break up the\n",
        "’Age’ column into five quantiles in your DataFrame, and then compare the means of ’Survived’ by class\n",
        "and age group. Draw a visualization using a any plotting library to represent this graphically."
      ],
      "metadata": {
        "id": "zxqJFW4JUXSS"
      }
    },
    {
      "cell_type": "code",
      "source": [
        "import pandas as pd\n",
        "import seaborn as sns\n",
        "import matplotlib.pyplot as plt\n",
        "\n",
        "#loading csv file from dataset\n",
        "file_path = '/content/drive/MyDrive/Data Set/Copy of Titanic-Dataset.csv'\n",
        "df = pd.read_csv(file_path)\n",
        "\n",
        "\n",
        "# Step 1: Create 5 quantiles for the 'Age' column\n",
        "df['AgeGroup'] = pd.qcut(df['Age'], 5, labels=['Q1', 'Q2', 'Q3', 'Q4', 'Q5'])\n",
        "\n",
        "# Step 2: Calculate the mean survival rate for each combination of 'Pclass' and 'AgeGroup'\n",
        "mean_survival_by_class_age = df.groupby(['Pclass', 'AgeGroup'])['Survived'].mean().reset_index()\n",
        "\n",
        "# Step 3: Create a visualization\n",
        "plt.figure(figsize=(10, 6))\n",
        "sns.barplot(x='AgeGroup', y='Survived', hue='Pclass', data=mean_survival_by_class_age)\n",
        "plt.title('Survival Rates by Age Group and Passenger Class')\n",
        "plt.xlabel('Age Group')\n",
        "plt.ylabel('Mean Survival Rate')\n",
        "plt.legend(title='Passenger Class', loc='upper left')\n",
        "plt.show()\n"
      ],
      "metadata": {
        "colab": {
          "base_uri": "https://localhost:8080/",
          "height": 619
        },
        "id": "IJM0U38LaJQg",
        "outputId": "ebc77a64-7a22-4cb1-8af7-2f2faff8fe36"
      },
      "execution_count": 42,
      "outputs": [
        {
          "output_type": "stream",
          "name": "stderr",
          "text": [
            "<ipython-input-42-e0e9600b403c>:14: FutureWarning: The default of observed=False is deprecated and will be changed to True in a future version of pandas. Pass observed=False to retain current behavior or observed=True to adopt the future default and silence this warning.\n",
            "  mean_survival_by_class_age = df.groupby(['Pclass', 'AgeGroup'])['Survived'].mean().reset_index()\n"
          ]
        },
        {
          "output_type": "display_data",
          "data": {
            "text/plain": [
              "<Figure size 1000x600 with 1 Axes>"
            ],
            "image/png": "[encoded data removed]"
          },
          "metadata": {}
        }
      ]
    }
  ]
}